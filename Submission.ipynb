{
 "cells": [
  {
   "cell_type": "code",
   "execution_count": 2,
   "metadata": {
    "_cell_guid": "b1076dfc-b9ad-4769-8c92-a6c4dae69d19",
    "_uuid": "8f2839f25d086af736a60e9eeb907d3b93b6e0e5"
   },
   "outputs": [],
   "source": [
    "# Importing the necessary packahes\n",
    "\n",
    "import numpy as np # linear algebra\n",
    "import pandas as pd # data processing, CSV file I/O (e.g. pd.read_csv)\n",
    "import matplotlib.pyplot as plt\n",
    "import xgboost as xgb\n",
    "from xgboost import XGBClassifier, XGBRegressor\n",
    "from xgboost import plot_importance\n",
    "from matplotlib import pyplot\n",
    "import shap\n",
    "import pandas as pd\n",
    "from sklearn import preprocessing\n",
    "import os\n",
    "for dirname, _, filenames in os.walk('/kaggle/input'):\n",
    "    for filename in filenames:\n",
    "        print(os.path.join(dirname, filename))\n",
    "\n",
    "# Any results you write to the current directory are saved as output.\n",
    "from time import time\n",
    "from tqdm import tqdm_notebook as tqdm\n",
    "from collections import Counter\n",
    "from scipy import stats\n",
    "import lightgbm as lgb\n",
    "from sklearn.metrics import cohen_kappa_score\n",
    "from sklearn.model_selection import KFold, StratifiedKFold\n",
    "import gc\n",
    "import eli5\n",
    "from eli5.sklearn import PermutationImportance\n",
    "import json\n",
    "from sklearn.feature_selection import SelectFromModel\n",
    "pd.set_option('display.max_columns', 1000)"
   ]
  },
  {
   "cell_type": "markdown",
   "metadata": {},
   "source": [
    "Defining the evaluation metric"
   ]
  },
  {
   "cell_type": "code",
   "execution_count": 2,
   "metadata": {},
   "outputs": [],
   "source": [
    "def eval_qwk_lgb_regr(y_true, y_pred):\n",
    "    \"\"\"\n",
    "    Fast cappa eval function for lgb.\n",
    "    \"\"\"\n",
    "    dist = Counter(reduce_train['accuracy_group'])\n",
    "    for k in dist:\n",
    "        dist[k] /= len(reduce_train)\n",
    "    reduce_train['accuracy_group'].hist()\n",
    "    \n",
    "    acum = 0\n",
    "    bound = {}\n",
    "    for i in range(3):\n",
    "        acum += dist[i]\n",
    "        bound[i] = np.percentile(y_pred, acum * 100)\n",
    "\n",
    "    def classify(x):\n",
    "        if x <= bound[0]:\n",
    "            return 0\n",
    "        elif x <= bound[1]:\n",
    "            return 1\n",
    "        elif x <= bound[2]:\n",
    "            return 2\n",
    "        else:\n",
    "            return 3\n",
    "\n",
    "    y_pred = np.array(list(map(classify, y_pred))).reshape(y_true.shape)\n",
    "\n",
    "    return 'cappa', cohen_kappa_score(y_true, y_pred, weights='quadratic'), True"
   ]
  },
  {
   "cell_type": "code",
   "execution_count": 3,
   "metadata": {},
   "outputs": [],
   "source": [
    "Defining the evaluation metricdef cohenkappa(ypred, y):\n",
    "    y = y.get_label().astype(\"int\")\n",
    "    ypred = ypred.reshape((4, -1)).argmax(axis = 0)\n",
    "    loss = cohenkappascore(y, y_pred, weights = 'quadratic')\n",
    "    return \"cappa\", loss, True"
   ]
  },
  {
   "cell_type": "markdown",
   "metadata": {},
   "source": [
    "Loading in the data and splitting it up into the features as specified. One hot encoding and time duration split."
   ]
  },
  {
   "cell_type": "code",
   "execution_count": 4,
   "metadata": {},
   "outputs": [],
   "source": [
    "def read_data():\n",
    "    print('Reading train.csv file....')\n",
    "    train = pd.read_csv('/kaggle/input/data-science-bowl-2019/train.csv')\n",
    "    print('Training.csv file have {} rows and {} columns'.format(train.shape[0], train.shape[1]))\n",
    "\n",
    "    print('Reading test.csv file....')\n",
    "    test = pd.read_csv('/kaggle/input/data-science-bowl-2019/test.csv')\n",
    "    print('Test.csv file have {} rows and {} columns'.format(test.shape[0], test.shape[1]))\n",
    "\n",
    "    print('Reading train_labels.csv file....')\n",
    "    train_labels = pd.read_csv('/kaggle/input/data-science-bowl-2019/train_labels.csv')\n",
    "    print('Train_labels.csv file have {} rows and {} columns'.format(train_labels.shape[0], train_labels.shape[1]))\n",
    "\n",
    "    print('Reading specs.csv file....')\n",
    "    specs = pd.read_csv('/kaggle/input/data-science-bowl-2019/specs.csv')\n",
    "    print('Specs.csv file have {} rows and {} columns'.format(specs.shape[0], specs.shape[1]))\n",
    "\n",
    "    print('Reading sample_submission.csv file....')\n",
    "    sample_submission = pd.read_csv('/kaggle/input/data-science-bowl-2019/sample_submission.csv')\n",
    "    print('Sample_submission.csv file have {} rows and {} columns'.format(sample_submission.shape[0], sample_submission.shape[1]))\n",
    "    return train, test, train_labels, specs, sample_submission"
   ]
  },
  {
   "cell_type": "code",
   "execution_count": 5,
   "metadata": {},
   "outputs": [],
   "source": [
    "def encode_title(train, test, train_labels):\n",
    "    # encode title\n",
    "    train['title_event_code'] = list(map(lambda x, y: str(x) + '_' + str(y), train['title'], train['event_code']))\n",
    "    test['title_event_code'] = list(map(lambda x, y: str(x) + '_' + str(y), test['title'], test['event_code']))\n",
    "    all_title_event_code = list(set(train[\"title_event_code\"].unique()).union(test[\"title_event_code\"].unique()))\n",
    "    # make a list with all the unique 'titles' from the train and test set\n",
    "    list_of_user_activities = list(set(train['title'].unique()).union(set(test['title'].unique())))\n",
    "    # make a list with all the unique 'event_code' from the train and test set\n",
    "    list_of_event_code = list(set(train['event_code'].unique()).union(set(test['event_code'].unique())))\n",
    "    list_of_event_id = list(set(train['event_id'].unique()).union(set(test['event_id'].unique())))\n",
    "    # make a list with all the unique worlds from the train and test set\n",
    "    list_of_worlds = list(set(train['world'].unique()).union(set(test['world'].unique())))\n",
    "    # create a dictionary numerating the titles\n",
    "    activities_map = dict(zip(list_of_user_activities, np.arange(len(list_of_user_activities))))\n",
    "    activities_labels = dict(zip(np.arange(len(list_of_user_activities)), list_of_user_activities))\n",
    "    activities_world = dict(zip(list_of_worlds, np.arange(len(list_of_worlds))))\n",
    "    assess_titles = list(set(train[train['type'] == 'Assessment']['title'].value_counts().index).union(set(test[test['type'] == 'Assessment']['title'].value_counts().index)))\n",
    "    # replace the text titles with the number titles from the dict\n",
    "    train['title'] = train['title'].map(activities_map)\n",
    "    test['title'] = test['title'].map(activities_map)\n",
    "    train['world'] = train['world'].map(activities_world)\n",
    "    test['world'] = test['world'].map(activities_world)\n",
    "    train_labels['title'] = train_labels['title'].map(activities_map)\n",
    "    win_code = dict(zip(activities_map.values(), (4100*np.ones(len(activities_map))).astype('int')))\n",
    "    # then, it set one element, the 'Bird Measurer (Assessment)' as 4110, 10 more than the rest\n",
    "    win_code[activities_map['Bird Measurer (Assessment)']] = 4110\n",
    "    # convert text into datetime\n",
    "    train['timestamp'] = pd.to_datetime(train['timestamp'])\n",
    "    test['timestamp'] = pd.to_datetime(test['timestamp'])\n",
    "    \n",
    "    \n",
    "    return train, test, train_labels, win_code, list_of_user_activities, list_of_event_code, activities_labels, assess_titles, list_of_event_id, all_title_event_code"
   ]
  },
  {
   "cell_type": "code",
   "execution_count": 6,
   "metadata": {},
   "outputs": [],
   "source": [
    "# this is the function that convert the raw data into processed features (initial features scraped using external competition code)\n",
    "def get_data(user_sample, test_set=False):\n",
    "    '''\n",
    "    The user_sample is a DataFrame from train or test where the only one \n",
    "    installation_id is filtered\n",
    "    And the test_set parameter is related with the labels processing, that is only requered\n",
    "    if test_set=False\n",
    "    '''\n",
    "    # Constants and parameters declaration\n",
    "    last_activity = 0\n",
    "    \n",
    "    user_activities_count = {'Clip':0, 'Activity': 0, 'Assessment': 0, 'Game':0}\n",
    "    \n",
    "    # new features: time spent in each activity\n",
    "    last_session_time_sec = 0\n",
    "    accuracy_groups = {0:0, 1:0, 2:0, 3:0}\n",
    "    all_assessments = []\n",
    "    accumulated_accuracy_group = 0\n",
    "    accumulated_accuracy = 0\n",
    "    accumulated_correct_attempts = 0 \n",
    "    accumulated_uncorrect_attempts = 0\n",
    "    accumulated_actions = 0\n",
    "    counter = 0\n",
    "    time_first_activity = float(user_sample['timestamp'].values[0])\n",
    "    durations = []\n",
    "    last_accuracy_title = {'acc_' + title: -1 for title in assess_titles}\n",
    "    event_code_count: Dict[str, int] = {ev: 0 for ev in list_of_event_code}\n",
    "    event_id_count: Dict[str, int] = {eve: 0 for eve in list_of_event_id}\n",
    "    title_count: Dict[str, int] = {eve: 0 for eve in activities_labels.values()} \n",
    "    title_event_code_count: Dict[str, int] = {t_eve: 0 for t_eve in all_title_event_code}\n",
    "        \n",
    "    # last features\n",
    "    sessions_count = 0\n",
    "    \n",
    "    # itarates through each session of one instalation_id\n",
    "    for i, session in user_sample.groupby('game_session', sort=False):\n",
    "        # i = game_session_id\n",
    "        # session is a DataFrame that contain only one game_session\n",
    "        \n",
    "        # get some sessions information\n",
    "        session_type = session['type'].iloc[0]\n",
    "        session_title = session['title'].iloc[0]\n",
    "        session_title_text = activities_labels[session_title]\n",
    "                    \n",
    "            \n",
    "        # for each assessment, and only this kind off session, the features below are processed\n",
    "        # and a register are generated\n",
    "        if (session_type == 'Assessment') & (test_set or len(session)>1):\n",
    "            # search for event_code 4100, that represents the assessments trial\n",
    "            all_attempts = session.query(f'event_code == {win_code[session_title]}')\n",
    "            # then, check the numbers of wins and the number of losses\n",
    "            true_attempts = all_attempts['event_data'].str.contains('true').sum()\n",
    "            false_attempts = all_attempts['event_data'].str.contains('false').sum()\n",
    "            # copy a dict to use as feature template, it's initialized with some itens: \n",
    "            # {'Clip':0, 'Activity': 0, 'Assessment': 0, 'Game':0}\n",
    "            features = user_activities_count.copy()\n",
    "            features.update(last_accuracy_title.copy())\n",
    "            features.update(event_code_count.copy())\n",
    "            features.update(event_id_count.copy())\n",
    "            features.update(title_count.copy())\n",
    "            features.update(title_event_code_count.copy())\n",
    "            features.update(last_accuracy_title.copy())\n",
    "            features['installation_session_count'] = sessions_count\n",
    "            \n",
    "            # get installation_id for aggregated features\n",
    "            features['installation_id'] = session['installation_id'].iloc[-1]\n",
    "            # add title as feature, remembering that title represents the name of the game\n",
    "            features['session_title'] = session['title'].iloc[0]\n",
    "            # the 4 lines below add the feature of the history of the trials of this player\n",
    "            # this is based on the all time attempts so far, at the moment of this assessment\n",
    "            features['accumulated_correct_attempts'] = accumulated_correct_attempts\n",
    "            features['accumulated_uncorrect_attempts'] = accumulated_uncorrect_attempts\n",
    "            accumulated_correct_attempts += true_attempts \n",
    "            accumulated_uncorrect_attempts += false_attempts\n",
    "            # the time spent in the app so far\n",
    "            if durations == []:\n",
    "                features['duration_mean'] = 0\n",
    "                features['duration_std'] = 0\n",
    "            else:\n",
    "                features['duration_mean'] = np.mean(durations)\n",
    "                features['duration_std'] = np.std(durations)\n",
    "            durations.append((session.iloc[-1, 2] - session.iloc[0, 2] ).seconds)\n",
    "            # the accurace is the all time wins divided by the all time attempts\n",
    "            features['accumulated_accuracy'] = accumulated_accuracy/counter if counter > 0 else 0\n",
    "            accuracy = true_attempts/(true_attempts+false_attempts) if (true_attempts+false_attempts) != 0 else 0\n",
    "            accumulated_accuracy += accuracy\n",
    "            last_accuracy_title['acc_' + session_title_text] = accuracy\n",
    "            # a feature of the current accuracy categorized\n",
    "            # it is a counter of how many times this player was in each accuracy group\n",
    "            if accuracy == 0:\n",
    "                features['accuracy_group'] = 0\n",
    "            elif accuracy == 1:\n",
    "                features['accuracy_group'] = 3\n",
    "            elif accuracy == 0.5:\n",
    "                features['accuracy_group'] = 2\n",
    "            else:\n",
    "                features['accuracy_group'] = 1\n",
    "            features.update(accuracy_groups)\n",
    "            accuracy_groups[features['accuracy_group']] += 1 \n",
    "            # mean of the all accuracy groups of this player\n",
    "            features['accumulated_accuracy_group'] = accumulated_accuracy_group/counter if counter > 0 else 0\n",
    "            accumulated_accuracy_group += features['accuracy_group']\n",
    "            # how many actions the player has done so far, it is initialized as 0 and updated some lines below\n",
    "            features['accumulated_actions'] = accumulated_actions\n",
    "            \n",
    "            # there are some conditions to allow this features to be inserted in the datasets\n",
    "            # if it's a test set, all sessions belong to the final dataset\n",
    "            # it it's a train, needs to be passed throught this clausule: session.query(f'event_code == {win_code[session_title]}')\n",
    "            # that means, must exist an event_code 4100 or 4110\n",
    "            if test_set:\n",
    "                all_assessments.append(features)\n",
    "            elif true_attempts+false_attempts > 0:\n",
    "                all_assessments.append(features)\n",
    "                \n",
    "            counter += 1\n",
    "        \n",
    "        sessions_count += 1\n",
    "        # this piece counts how many actions was made in each event_code so far\n",
    "        def update_counters(counter: dict, col: str):\n",
    "                num_of_session_count = Counter(session[col])\n",
    "                for k in num_of_session_count.keys():\n",
    "                    x = k\n",
    "                    if col == 'title':\n",
    "                        x = activities_labels[k]\n",
    "                    counter[x] += num_of_session_count[k]\n",
    "                return counter\n",
    "            \n",
    "        event_code_count = update_counters(event_code_count, \"event_code\")\n",
    "        event_id_count = update_counters(event_id_count, \"event_id\")\n",
    "        title_count = update_counters(title_count, 'title')\n",
    "        title_event_code_count = update_counters(title_event_code_count, 'title_event_code')\n",
    "\n",
    "        # counts how many actions the player has done so far, used in the feature of the same name\n",
    "        accumulated_actions += len(session)\n",
    "        if last_activity != session_type:\n",
    "            user_activities_count[session_type] += 1\n",
    "            last_activitiy = session_type \n",
    "                        \n",
    "    # if it't the test_set, only the last assessment must be predicted, the previous are scraped\n",
    "    if test_set:\n",
    "        return all_assessments[-1]\n",
    "    # in the train_set, all assessments goes to the dataset\n",
    "    return all_assessments"
   ]
  },
  {
   "cell_type": "code",
   "execution_count": 7,
   "metadata": {},
   "outputs": [],
   "source": [
    "def get_train_and_test(train, test):\n",
    "    compiled_train = []\n",
    "    compiled_test = []\n",
    "    for i, (ins_id, user_sample) in tqdm(enumerate(train.groupby('installation_id', sort = False)), total = 17000):\n",
    "        compiled_train += get_data(user_sample)\n",
    "    for ins_id, user_sample in tqdm(test.groupby('installation_id', sort = False), total = 1000):\n",
    "        test_data = get_data(user_sample, test_set = True)\n",
    "        compiled_test.append(test_data)\n",
    "    reduce_train = pd.DataFrame(compiled_train)\n",
    "    reduce_test = pd.DataFrame(compiled_test)\n",
    "    categoricals = ['session_title']\n",
    "    return reduce_train, reduce_test, categoricals"
   ]
  },
  {
   "cell_type": "markdown",
   "metadata": {},
   "source": [
    "Defining the Light gradient boosted and XG boosted model"
   ]
  },
  {
   "cell_type": "code",
   "execution_count": 8,
   "metadata": {},
   "outputs": [],
   "source": [
    "def run_lgb_regression(reduce_train, reduce_test, usefull_features, n_splits):\n",
    "    kf = StratifiedKFold(n_splits=n_splits, shuffle = True, random_state = 42)\n",
    "    target = 'accuracy_group'\n",
    "    oof_pred = np.zeros((len(reduce_train), ))\n",
    "    y_pred = np.zeros((len(reduce_test), ))\n",
    "    for fold, (tr_ind, val_ind) in enumerate(kf.split(reduce_train, reduce_train[target])):\n",
    "        print('Fold {}'.format(fold + 1))\n",
    "        x_train, x_val = reduce_train[usefull_features].iloc[tr_ind], reduce_train[usefull_features].iloc[val_ind]\n",
    "        y_train, y_val = reduce_train[target][tr_ind], reduce_train[target][val_ind]\n",
    "        train_set = lgb.Dataset(x_train, y_train, categorical_feature=categoricals)\n",
    "        val_set = lgb.Dataset(x_val, y_val, categorical_feature=categoricals)\n",
    "# hyperparams tuned by trial end error \n",
    "        params = {'n_estimators':2000,\n",
    "                    'boosting_type': 'gbdt',\n",
    "                    'objective': 'regression',\n",
    "                    'metric': 'rmse',\n",
    "                    'subsample': 0.9,\n",
    "                    'num_leaves' : 63,\n",
    "                    'colsample_bytree' : 0.6,\n",
    "                    'max_bin' : 27,\n",
    "                    'reg_alpha' : 0.11,\n",
    "                    'reg_labda' : 0.01,\n",
    "                    'min_child_weight' : 0.2,\n",
    "                    'min_child_samples' : 20,\n",
    "                    'min_gain_to_split' : 0.02,\n",
    "                    'min_data_in_bin' : 3,\n",
    "                    'bin_construct_sample_cnt' : 5000,\n",
    "                    'cat_12' : 10,\n",
    "                    'n_thread' : -1,\n",
    "                    'seed' : 69,\n",
    "                    'learning_rate': 0.01,\n",
    "                    'feature_fraction': 0.9,\n",
    "                    'max_depth': 15,\n",
    "                    'verbose': 100,\n",
    "                    'early_stopping_rounds': 100\n",
    "                    }\n",
    "\n",
    "        model = lgb.train(params, train_set, num_boost_round = 1000000, early_stopping_rounds = 100, \n",
    "                          valid_sets=[train_set, val_set], verbose_eval = 100)\n",
    "        oof_pred[val_ind] = model.predict(x_val)\n",
    "        y_pred += model.predict(reduce_test[usefull_features]) / n_splits\n",
    "    _, loss_score, _ = eval_qwk_lgb_regr(reduce_train[target], oof_pred)\n",
    "    print('Our oof cohen kappa score is: ', loss_score)\n",
    "\n",
    "    return y_pred\n"
   ]
  },
  {
   "cell_type": "code",
   "execution_count": 9,
   "metadata": {},
   "outputs": [],
   "source": [
    "def run_xgb_regression(reduce_train, reduce_test, usefull_features, n_splits):\n",
    "    kf = StratifiedKFold(n_splits=n_splits, shuffle = True, random_state = 69)\n",
    "    target = 'accuracy_group'\n",
    "    oof_pred = np.zeros((len(reduce_train), ))\n",
    "    y_pred = np.zeros((len(reduce_test), ))\n",
    "    for fold, (tr_ind, val_ind) in enumerate(kf.split(reduce_train, reduce_train[target])):\n",
    "        print('Fold {}'.format(fold + 1))\n",
    "        x_train, x_val = reduce_train[usefull_features].iloc[tr_ind], reduce_train[usefull_features].iloc[val_ind]\n",
    "        y_train, y_val = reduce_train[target][tr_ind], reduce_train[target][val_ind]\n",
    "        xgb_train = xgb.DMatrix(x_train, y_train)\n",
    "        xgb_eval = xgb.DMatrix(x_val, y_val)\n",
    "\n",
    "        pars = {\n",
    "            'colsample_bytree': 0.85,                 \n",
    "            'learning_rate': 0.01,\n",
    "            'seed' : 100,\n",
    "            'subsample': 0.8,\n",
    "            'num_leaves' : 15,\n",
    "            'max_depth': 4,\n",
    "            'objective':'reg:squarederror',\n",
    "            #'eval_metric':'rmse',\n",
    "            'n_estimators':10000\n",
    "        }\n",
    "\n",
    "        model = xgb.train(pars,\n",
    "                      xgb_train,\n",
    "                      num_boost_round=5000,\n",
    "                      evals=[(xgb_train, 'train'), (xgb_eval, 'val')],\n",
    "                      verbose_eval=100,\n",
    "                      early_stopping_rounds=100\n",
    "                     )\n",
    "        \n",
    "        val_X=xgb.DMatrix(x_val)\n",
    "        oof_pred[val_ind] = model.predict(val_X)\n",
    "        test_X = xgb.DMatrix(reduce_test[usefull_features])\n",
    "        y_pred += model.predict(test_X) / n_splits\n",
    "    _, loss_score, _ = eval_qwk_lgb_regr(reduce_train[target], oof_pred)\n",
    "    print('Our oof cohen kappa score is: ', loss_score)\n",
    "\n",
    "    return y_pred\n"
   ]
  },
  {
   "cell_type": "markdown",
   "metadata": {},
   "source": [
    "Reading the CSVs"
   ]
  },
  {
   "cell_type": "code",
   "execution_count": 11,
   "metadata": {},
   "outputs": [
    {
     "name": "stdout",
     "output_type": "stream",
     "text": [
      "Reading train.csv file....\n",
      "Training.csv file have 11341042 rows and 11 columns\n",
      "Reading test.csv file....\n",
      "Test.csv file have 1156414 rows and 11 columns\n",
      "Reading train_labels.csv file....\n",
      "Train_labels.csv file have 17690 rows and 7 columns\n",
      "Reading specs.csv file....\n",
      "Specs.csv file have 386 rows and 3 columns\n",
      "Reading sample_submission.csv file....\n",
      "Sample_submission.csv file have 1000 rows and 2 columns\n"
     ]
    },
    {
     "data": {
      "application/vnd.jupyter.widget-view+json": {
       "model_id": "e789d37a9f8b4146a33ef41b2ea4cd3d",
       "version_major": 2,
       "version_minor": 0
      },
      "text/plain": [
       "HBox(children=(IntProgress(value=0, max=17000), HTML(value='')))"
      ]
     },
     "metadata": {},
     "output_type": "display_data"
    },
    {
     "name": "stdout",
     "output_type": "stream",
     "text": [
      "\n"
     ]
    },
    {
     "data": {
      "application/vnd.jupyter.widget-view+json": {
       "model_id": "288c6715e62648f988b4843b1fbc861d",
       "version_major": 2,
       "version_minor": 0
      },
      "text/plain": [
       "HBox(children=(IntProgress(value=0, max=1000), HTML(value='')))"
      ]
     },
     "metadata": {},
     "output_type": "display_data"
    },
    {
     "name": "stdout",
     "output_type": "stream",
     "text": [
      "\n"
     ]
    }
   ],
   "source": [
    "# read data\n",
    "train, test, train_labels, specs, sample_submission = read_data()\n",
    "# get usefull dict with maping encode\n",
    "train, test, train_labels, win_code, list_of_user_activities, list_of_event_code, activities_labels, assess_titles, list_of_event_id, all_title_event_code = encode_title(train, test, train_labels)\n",
    "# tranform function to get the train and test set\n",
    "reduce_train, reduce_test, categoricals = get_train_and_test(train, test) "
   ]
  },
  {
   "cell_type": "markdown",
   "metadata": {},
   "source": [
    "Checking what features can be engineered and pre-processing them in the next few sections"
   ]
  },
  {
   "cell_type": "code",
   "execution_count": 12,
   "metadata": {},
   "outputs": [],
   "source": [
    "to_exclude = []\n",
    "ajusted_test = reduce_test.copy()\n",
    "for feature in ajusted_test.columns:\n",
    "    if feature not in ['accuracy_group', 'installation_id', 'accuracy_group', 'session_title']:\n",
    "        data = reduce_train[feature]\n",
    "        train_mean = data.mean()\n",
    "        data = ajusted_test[feature] \n",
    "        test_mean = data.mean()\n",
    "        try:\n",
    "            ajust_factor = train_mean / test_mean\n",
    "            if ajust_factor > 10 or ajust_factor < 0.1:\n",
    "                to_exclude.append(feature)\n",
    "                #print(feature, train_mean, test_mean)\n",
    "            else:\n",
    "                ajusted_test[feature] *= ajust_factor\n",
    "        except:\n",
    "            to_exclude.append(feature)\n",
    "            #print(feature, train_mean, test_mean)"
   ]
  },
  {
   "cell_type": "markdown",
   "metadata": {},
   "source": [
    "Permutation Engineering - Picking features out"
   ]
  },
  {
   "cell_type": "code",
   "execution_count": 13,
   "metadata": {},
   "outputs": [],
   "source": [
    "msk = np.random.rand(len(reduce_train)) < 0.8\n",
    "train = reduce_train[msk]\n",
    "val = reduce_train[~msk]\n",
    "acc = reduce_train['accuracy_group']\n",
    "inst = reduce_train['installation_id']\n",
    "t = train.drop(columns=['accuracy_group','installation_id'])\n",
    "v = val.drop(columns=['accuracy_group','installation_id'])\n",
    "model = XGBClassifier().fit(t,train['accuracy_group'])\n",
    "perm = PermutationImportance(model, random_state=1).fit(v,val['accuracy_group'])"
   ]
  },
  {
   "cell_type": "markdown",
   "metadata": {},
   "source": [
    "Removing all other 'unimportant' features"
   ]
  },
  {
   "cell_type": "code",
   "execution_count": 14,
   "metadata": {},
   "outputs": [],
   "source": [
    "sel = SelectFromModel(perm, threshold=-5, prefit=True)\n",
    "feature_idx = sel.get_support()\n",
    "feature_name = t.columns[feature_idx]\n",
    "reduce_train = reduce_train[feature_name]\n",
    "reduce_train['accuracy_group'] = acc\n",
    "reduce_train['installation_id'] = inst"
   ]
  },
  {
   "cell_type": "markdown",
   "metadata": {},
   "source": [
    "Removing correlated features"
   ]
  },
  {
   "cell_type": "code",
   "execution_count": 15,
   "metadata": {},
   "outputs": [],
   "source": [
    "#checking for correlations\n",
    "corr_matrix = reduce_train.corr().abs()\n",
    "upper = corr_matrix.where(np.triu(np.ones(corr_matrix.shape), k=1).astype(np.bool))\n",
    "to_drop = [column for column in upper.columns if any(upper[column] > 0.95)]\n",
    "reduce_train.drop(to_drop, axis=1, inplace=True)"
   ]
  },
  {
   "cell_type": "markdown",
   "metadata": {},
   "source": [
    "Storing only the necesaary features"
   ]
  },
  {
   "cell_type": "code",
   "execution_count": 16,
   "metadata": {},
   "outputs": [],
   "source": [
    "# call feature engineering function\n",
    "features = reduce_train.loc[(reduce_train.sum(axis=1) != 0), (reduce_train.sum(axis=0) != 0)].columns # delete useless columns\n",
    "features = [x for x in features if x not in ['accuracy_group', 'installation_id']]\n",
    "features = [x for x in features if x not in to_exclude]\n",
    "ajusted_test = reduce_test.copy()\n"
   ]
  },
  {
   "cell_type": "markdown",
   "metadata": {},
   "source": [
    "Engineered to 238 features from over 900. Can be effectively redued to about 90 without any major drop in performance and with a really good model fit."
   ]
  },
  {
   "cell_type": "code",
   "execution_count": 17,
   "metadata": {},
   "outputs": [
    {
     "name": "stdout",
     "output_type": "stream",
     "text": [
      "238\n"
     ]
    }
   ],
   "source": [
    "print(len(features))"
   ]
  },
  {
   "cell_type": "markdown",
   "metadata": {},
   "source": [
    "Training"
   ]
  },
  {
   "cell_type": "code",
   "execution_count": 18,
   "metadata": {},
   "outputs": [
    {
     "name": "stdout",
     "output_type": "stream",
     "text": [
      "Fold 1\n"
     ]
    },
    {
     "name": "stderr",
     "output_type": "stream",
     "text": [
      "/opt/conda/lib/python3.6/site-packages/lightgbm/engine.py:148: UserWarning: Found `n_estimators` in params. Will use it instead of argument\n",
      "  warnings.warn(\"Found `{}` in params. Will use it instead of argument\".format(alias))\n",
      "/opt/conda/lib/python3.6/site-packages/lightgbm/engine.py:153: UserWarning: Found `early_stopping_rounds` in params. Will use it instead of argument\n",
      "  warnings.warn(\"Found `{}` in params. Will use it instead of argument\".format(alias))\n",
      "/opt/conda/lib/python3.6/site-packages/lightgbm/basic.py:1243: UserWarning: Using categorical_feature in Dataset.\n",
      "  warnings.warn('Using categorical_feature in Dataset.')\n"
     ]
    },
    {
     "name": "stdout",
     "output_type": "stream",
     "text": [
      "Training until validation scores don't improve for 100 rounds\n",
      "[100]\ttraining's rmse: 1.00924\tvalid_1's rmse: 1.04792\n",
      "[200]\ttraining's rmse: 0.925209\tvalid_1's rmse: 0.998393\n",
      "[300]\ttraining's rmse: 0.87844\tvalid_1's rmse: 0.984137\n",
      "[400]\ttraining's rmse: 0.845139\tvalid_1's rmse: 0.979455\n",
      "[500]\ttraining's rmse: 0.817342\tvalid_1's rmse: 0.977296\n",
      "[600]\ttraining's rmse: 0.793819\tvalid_1's rmse: 0.976738\n",
      "[700]\ttraining's rmse: 0.772547\tvalid_1's rmse: 0.976605\n",
      "[800]\ttraining's rmse: 0.753613\tvalid_1's rmse: 0.976873\n",
      "Early stopping, best iteration is:\n",
      "[728]\ttraining's rmse: 0.766982\tvalid_1's rmse: 0.976502\n",
      "Fold 2\n",
      "Training until validation scores don't improve for 100 rounds\n",
      "[100]\ttraining's rmse: 1.00631\tvalid_1's rmse: 1.04701\n",
      "[200]\ttraining's rmse: 0.921706\tvalid_1's rmse: 1.00311\n",
      "[300]\ttraining's rmse: 0.875254\tvalid_1's rmse: 0.993322\n",
      "[400]\ttraining's rmse: 0.841357\tvalid_1's rmse: 0.991092\n",
      "[500]\ttraining's rmse: 0.814347\tvalid_1's rmse: 0.990997\n",
      "Early stopping, best iteration is:\n",
      "[441]\ttraining's rmse: 0.829845\tvalid_1's rmse: 0.990728\n",
      "Fold 3\n",
      "Training until validation scores don't improve for 100 rounds\n",
      "[100]\ttraining's rmse: 1.00765\tvalid_1's rmse: 1.04665\n",
      "[200]\ttraining's rmse: 0.924264\tvalid_1's rmse: 1.00151\n",
      "[300]\ttraining's rmse: 0.878636\tvalid_1's rmse: 0.988806\n",
      "[400]\ttraining's rmse: 0.845705\tvalid_1's rmse: 0.984822\n",
      "[500]\ttraining's rmse: 0.818551\tvalid_1's rmse: 0.983421\n",
      "[600]\ttraining's rmse: 0.795321\tvalid_1's rmse: 0.982903\n",
      "[700]\ttraining's rmse: 0.774604\tvalid_1's rmse: 0.982401\n",
      "[800]\ttraining's rmse: 0.756144\tvalid_1's rmse: 0.982928\n",
      "Early stopping, best iteration is:\n",
      "[707]\ttraining's rmse: 0.773255\tvalid_1's rmse: 0.98235\n",
      "Fold 4\n",
      "Training until validation scores don't improve for 100 rounds\n",
      "[100]\ttraining's rmse: 1.00742\tvalid_1's rmse: 1.04804\n",
      "[200]\ttraining's rmse: 0.922918\tvalid_1's rmse: 1.00395\n",
      "[300]\ttraining's rmse: 0.876287\tvalid_1's rmse: 0.993129\n",
      "[400]\ttraining's rmse: 0.843991\tvalid_1's rmse: 0.988718\n",
      "[500]\ttraining's rmse: 0.817715\tvalid_1's rmse: 0.986695\n",
      "[600]\ttraining's rmse: 0.794433\tvalid_1's rmse: 0.98611\n",
      "[700]\ttraining's rmse: 0.774405\tvalid_1's rmse: 0.985489\n",
      "[800]\ttraining's rmse: 0.756298\tvalid_1's rmse: 0.985288\n",
      "Early stopping, best iteration is:\n",
      "[777]\ttraining's rmse: 0.760325\tvalid_1's rmse: 0.985143\n",
      "Fold 5\n",
      "Training until validation scores don't improve for 100 rounds\n",
      "[100]\ttraining's rmse: 1.00807\tvalid_1's rmse: 1.0509\n",
      "[200]\ttraining's rmse: 0.924767\tvalid_1's rmse: 1.00542\n",
      "[300]\ttraining's rmse: 0.878601\tvalid_1's rmse: 0.993175\n",
      "[400]\ttraining's rmse: 0.846221\tvalid_1's rmse: 0.98869\n",
      "[500]\ttraining's rmse: 0.819096\tvalid_1's rmse: 0.986008\n",
      "[600]\ttraining's rmse: 0.79609\tvalid_1's rmse: 0.985304\n",
      "[700]\ttraining's rmse: 0.775434\tvalid_1's rmse: 0.984688\n",
      "[800]\ttraining's rmse: 0.756309\tvalid_1's rmse: 0.984226\n",
      "[900]\ttraining's rmse: 0.739085\tvalid_1's rmse: 0.984296\n",
      "Early stopping, best iteration is:\n",
      "[845]\ttraining's rmse: 0.748341\tvalid_1's rmse: 0.984093\n",
      "Our oof cohen kappa score is:  0.5900205408380583\n"
     ]
    },
    {
     "data": {
      "image/png": "[encoded data removed]",
      "text/plain": [
       "<Figure size 432x288 with 1 Axes>"
      ]
     },
     "metadata": {
      "needs_background": "light"
     },
     "output_type": "display_data"
    }
   ],
   "source": [
    "y_lgb_pred = run_lgb_regression(reduce_train, ajusted_test, features, 5)"
   ]
  },
  {
   "cell_type": "code",
   "execution_count": 19,
   "metadata": {},
   "outputs": [
    {
     "name": "stdout",
     "output_type": "stream",
     "text": [
      "Fold 1\n"
     ]
    },
    {
     "name": "stderr",
     "output_type": "stream",
     "text": [
      "/opt/conda/lib/python3.6/site-packages/xgboost/core.py:587: FutureWarning: Series.base is deprecated and will be removed in a future version\n",
      "  if getattr(data, 'base', None) is not None and \\\n"
     ]
    },
    {
     "name": "stdout",
     "output_type": "stream",
     "text": [
      "[0]\ttrain-rmse:1.85814\tval-rmse:1.85795\n",
      "Multiple eval metrics have been passed: 'val-rmse' will be used for early stopping.\n",
      "\n",
      "Will train until val-rmse hasn't improved in 100 rounds.\n",
      "[100]\ttrain-rmse:1.19703\tval-rmse:1.2062\n",
      "[200]\ttrain-rmse:1.04536\tval-rmse:1.06437\n",
      "[300]\ttrain-rmse:1.00149\tval-rmse:1.02983\n",
      "[400]\ttrain-rmse:0.979739\tval-rmse:1.01605\n",
      "[500]\ttrain-rmse:0.965052\tval-rmse:1.00862\n",
      "[600]\ttrain-rmse:0.953979\tval-rmse:1.00434\n",
      "[700]\ttrain-rmse:0.944927\tval-rmse:1.00166\n",
      "[800]\ttrain-rmse:0.937224\tval-rmse:0.999904\n",
      "[900]\ttrain-rmse:0.930106\tval-rmse:0.998212\n",
      "[1000]\ttrain-rmse:0.923572\tval-rmse:0.997363\n",
      "[1100]\ttrain-rmse:0.917228\tval-rmse:0.99671\n",
      "[1200]\ttrain-rmse:0.91123\tval-rmse:0.99591\n",
      "[1300]\ttrain-rmse:0.905749\tval-rmse:0.995502\n",
      "[1400]\ttrain-rmse:0.900156\tval-rmse:0.995078\n",
      "[1500]\ttrain-rmse:0.895109\tval-rmse:0.994793\n",
      "[1600]\ttrain-rmse:0.889994\tval-rmse:0.994443\n",
      "[1700]\ttrain-rmse:0.88493\tval-rmse:0.994027\n",
      "[1800]\ttrain-rmse:0.880072\tval-rmse:0.993801\n",
      "[1900]\ttrain-rmse:0.875162\tval-rmse:0.99358\n",
      "Stopping. Best iteration:\n",
      "[1843]\ttrain-rmse:0.877838\tval-rmse:0.993478\n",
      "\n",
      "Fold 2\n",
      "[0]\ttrain-rmse:1.8581\tval-rmse:1.85816\n",
      "Multiple eval metrics have been passed: 'val-rmse' will be used for early stopping.\n",
      "\n",
      "Will train until val-rmse hasn't improved in 100 rounds.\n",
      "[100]\ttrain-rmse:1.19902\tval-rmse:1.20848\n",
      "[200]\ttrain-rmse:1.04555\tval-rmse:1.06454\n",
      "[300]\ttrain-rmse:1.00107\tval-rmse:1.02942\n",
      "[400]\ttrain-rmse:0.979117\tval-rmse:1.01571\n",
      "[500]\ttrain-rmse:0.9642\tval-rmse:1.00858\n",
      "[600]\ttrain-rmse:0.952915\tval-rmse:1.00445\n",
      "[700]\ttrain-rmse:0.943574\tval-rmse:1.00167\n",
      "[800]\ttrain-rmse:0.935535\tval-rmse:1.00015\n",
      "[900]\ttrain-rmse:0.928323\tval-rmse:0.998917\n",
      "[1000]\ttrain-rmse:0.921944\tval-rmse:0.998249\n",
      "[1100]\ttrain-rmse:0.915739\tval-rmse:0.997461\n",
      "[1200]\ttrain-rmse:0.90988\tval-rmse:0.997065\n",
      "[1300]\ttrain-rmse:0.904168\tval-rmse:0.996169\n",
      "[1400]\ttrain-rmse:0.898598\tval-rmse:0.995678\n",
      "[1500]\ttrain-rmse:0.893356\tval-rmse:0.995387\n",
      "[1600]\ttrain-rmse:0.888225\tval-rmse:0.994795\n",
      "Stopping. Best iteration:\n",
      "[1596]\ttrain-rmse:0.888442\tval-rmse:0.994753\n",
      "\n",
      "Fold 3\n",
      "[0]\ttrain-rmse:1.85808\tval-rmse:1.85808\n",
      "Multiple eval metrics have been passed: 'val-rmse' will be used for early stopping.\n",
      "\n",
      "Will train until val-rmse hasn't improved in 100 rounds.\n",
      "[100]\ttrain-rmse:1.20123\tval-rmse:1.20466\n",
      "[200]\ttrain-rmse:1.04978\tval-rmse:1.05662\n",
      "[300]\ttrain-rmse:1.00554\tval-rmse:1.01852\n",
      "[400]\ttrain-rmse:0.983448\tval-rmse:1.0035\n",
      "[500]\ttrain-rmse:0.969113\tval-rmse:0.996166\n",
      "[600]\ttrain-rmse:0.957982\tval-rmse:0.991146\n",
      "[700]\ttrain-rmse:0.949128\tval-rmse:0.988537\n",
      "[800]\ttrain-rmse:0.941338\tval-rmse:0.986739\n",
      "[900]\ttrain-rmse:0.934161\tval-rmse:0.985298\n",
      "[1000]\ttrain-rmse:0.927306\tval-rmse:0.984079\n",
      "[1100]\ttrain-rmse:0.920987\tval-rmse:0.983226\n",
      "[1200]\ttrain-rmse:0.914909\tval-rmse:0.982355\n",
      "[1300]\ttrain-rmse:0.909448\tval-rmse:0.981808\n",
      "[1400]\ttrain-rmse:0.90406\tval-rmse:0.981417\n",
      "[1500]\ttrain-rmse:0.898765\tval-rmse:0.981109\n",
      "[1600]\ttrain-rmse:0.893813\tval-rmse:0.980866\n",
      "[1700]\ttrain-rmse:0.888661\tval-rmse:0.980488\n",
      "[1800]\ttrain-rmse:0.883689\tval-rmse:0.980293\n",
      "[1900]\ttrain-rmse:0.879054\tval-rmse:0.980267\n",
      "Stopping. Best iteration:\n",
      "[1868]\ttrain-rmse:0.880458\tval-rmse:0.980084\n",
      "\n",
      "Fold 4\n",
      "[0]\ttrain-rmse:1.85811\tval-rmse:1.85816\n",
      "Multiple eval metrics have been passed: 'val-rmse' will be used for early stopping.\n",
      "\n",
      "Will train until val-rmse hasn't improved in 100 rounds.\n",
      "[100]\ttrain-rmse:1.1988\tval-rmse:1.20632\n",
      "[200]\ttrain-rmse:1.04687\tval-rmse:1.06249\n",
      "[300]\ttrain-rmse:1.00257\tval-rmse:1.02575\n",
      "[400]\ttrain-rmse:0.981093\tval-rmse:1.01095\n",
      "[500]\ttrain-rmse:0.966597\tval-rmse:1.00348\n",
      "[600]\ttrain-rmse:0.95563\tval-rmse:0.998792\n",
      "[700]\ttrain-rmse:0.946607\tval-rmse:0.995894\n",
      "[800]\ttrain-rmse:0.938591\tval-rmse:0.993723\n",
      "[900]\ttrain-rmse:0.931544\tval-rmse:0.992416\n",
      "[1000]\ttrain-rmse:0.925152\tval-rmse:0.991372\n",
      "[1100]\ttrain-rmse:0.919113\tval-rmse:0.990303\n",
      "[1200]\ttrain-rmse:0.913355\tval-rmse:0.989678\n",
      "[1300]\ttrain-rmse:0.907702\tval-rmse:0.988897\n",
      "[1400]\ttrain-rmse:0.902377\tval-rmse:0.98802\n",
      "[1500]\ttrain-rmse:0.897367\tval-rmse:0.987417\n",
      "[1600]\ttrain-rmse:0.892172\tval-rmse:0.987352\n",
      "[1700]\ttrain-rmse:0.887094\tval-rmse:0.987053\n",
      "[1800]\ttrain-rmse:0.882501\tval-rmse:0.986922\n",
      "[1900]\ttrain-rmse:0.878253\tval-rmse:0.986671\n",
      "[2000]\ttrain-rmse:0.873365\tval-rmse:0.986185\n",
      "[2100]\ttrain-rmse:0.869228\tval-rmse:0.985726\n",
      "[2200]\ttrain-rmse:0.864874\tval-rmse:0.985444\n",
      "[2300]\ttrain-rmse:0.860828\tval-rmse:0.984834\n",
      "[2400]\ttrain-rmse:0.856521\tval-rmse:0.984868\n",
      "[2500]\ttrain-rmse:0.852554\tval-rmse:0.984524\n",
      "Stopping. Best iteration:\n",
      "[2478]\ttrain-rmse:0.853449\tval-rmse:0.9845\n",
      "\n",
      "Fold 5\n",
      "[0]\ttrain-rmse:1.85806\tval-rmse:1.85843\n",
      "Multiple eval metrics have been passed: 'val-rmse' will be used for early stopping.\n",
      "\n",
      "Will train until val-rmse hasn't improved in 100 rounds.\n",
      "[100]\ttrain-rmse:1.19838\tval-rmse:1.20368\n",
      "[200]\ttrain-rmse:1.0486\tval-rmse:1.06126\n",
      "[300]\ttrain-rmse:1.00405\tval-rmse:1.02339\n",
      "[400]\ttrain-rmse:0.981992\tval-rmse:1.00878\n",
      "[500]\ttrain-rmse:0.967209\tval-rmse:1.00156\n",
      "[600]\ttrain-rmse:0.956293\tval-rmse:0.997151\n",
      "[700]\ttrain-rmse:0.947253\tval-rmse:0.994137\n",
      "[800]\ttrain-rmse:0.939106\tval-rmse:0.992239\n",
      "[900]\ttrain-rmse:0.931966\tval-rmse:0.990619\n",
      "[1000]\ttrain-rmse:0.925481\tval-rmse:0.989375\n",
      "[1100]\ttrain-rmse:0.919058\tval-rmse:0.988478\n",
      "[1200]\ttrain-rmse:0.913127\tval-rmse:0.987995\n",
      "[1300]\ttrain-rmse:0.907521\tval-rmse:0.987355\n",
      "[1400]\ttrain-rmse:0.901889\tval-rmse:0.98675\n",
      "[1500]\ttrain-rmse:0.896517\tval-rmse:0.986186\n",
      "[1600]\ttrain-rmse:0.89128\tval-rmse:0.985705\n",
      "[1700]\ttrain-rmse:0.88646\tval-rmse:0.985514\n",
      "[1800]\ttrain-rmse:0.881545\tval-rmse:0.985288\n",
      "[1900]\ttrain-rmse:0.876861\tval-rmse:0.985118\n",
      "[2000]\ttrain-rmse:0.871884\tval-rmse:0.985054\n",
      "[2100]\ttrain-rmse:0.86725\tval-rmse:0.984859\n",
      "[2200]\ttrain-rmse:0.862883\tval-rmse:0.984831\n",
      "Stopping. Best iteration:\n",
      "[2179]\ttrain-rmse:0.863734\tval-rmse:0.984737\n",
      "\n",
      "Our oof cohen kappa score is:  0.5930985184450359\n"
     ]
    },
    {
     "data": {
      "image/png": "[encoded data removed]",
      "text/plain": [
       "<Figure size 432x288 with 1 Axes>"
      ]
     },
     "metadata": {
      "needs_background": "light"
     },
     "output_type": "display_data"
    }
   ],
   "source": [
    "y_xgb_pred = run_xgb_regression(reduce_train, ajusted_test, features, 5)"
   ]
  },
  {
   "cell_type": "markdown",
   "metadata": {},
   "source": [
    "Ensembling the two models with their respective weights. (Tuned by trial and error)"
   ]
  },
  {
   "cell_type": "code",
   "execution_count": 20,
   "metadata": {},
   "outputs": [
    {
     "name": "stdout",
     "output_type": "stream",
     "text": [
      "(1000,) (1000,) (1000,)\n"
     ]
    }
   ],
   "source": [
    "lgb_weight = 0.6\n",
    "final_pred = y_lgb_pred * lgb_weight + y_xgb_pred * (1 - lgb_weight)\n",
    "print(final_pred.shape, y_lgb_pred.shape, y_xgb_pred.shape)"
   ]
  },
  {
   "cell_type": "code",
   "execution_count": 21,
   "metadata": {},
   "outputs": [
    {
     "name": "stdout",
     "output_type": "stream",
     "text": [
      "{0: 1.4896280244829119, 1: 1.9382802501734349, 2: 2.1525047831399275}\n"
     ]
    },
    {
     "data": {
      "text/plain": [
       "3    0.500\n",
       "0    0.239\n",
       "1    0.136\n",
       "2    0.125\n",
       "Name: accuracy_group, dtype: float64"
      ]
     },
     "execution_count": 21,
     "metadata": {},
     "output_type": "execute_result"
    },
    {
     "data": {
      "image/png": "[encoded data removed]",
      "text/plain": [
       "<Figure size 432x288 with 1 Axes>"
      ]
     },
     "metadata": {
      "needs_background": "light"
     },
     "output_type": "display_data"
    }
   ],
   "source": [
    "dist = Counter(reduce_train['accuracy_group'])\n",
    "for k in dist:\n",
    "    dist[k] /= len(reduce_train)\n",
    "reduce_train['accuracy_group'].hist()\n",
    "\n",
    "acum = 0\n",
    "bound = {}\n",
    "for i in range(3):\n",
    "    acum += dist[i]\n",
    "    bound[i] = np.percentile(final_pred, acum * 100)\n",
    "print(bound)\n",
    "\n",
    "def classify(x):\n",
    "    if x <= bound[0]:\n",
    "        return 0\n",
    "    elif x <= bound[1]:\n",
    "        return 1\n",
    "    elif x <= bound[2]:\n",
    "        return 2\n",
    "    else:\n",
    "        return 3\n",
    "    \n",
    "final_pred = np.array(list(map(classify, final_pred)))\n",
    "\n",
    "sample_submission['accuracy_group'] = final_pred.astype(int)\n",
    "sample_submission.to_csv('submission.csv', index=False)\n",
    "sample_submission['accuracy_group'].value_counts(normalize=True)"
   ]
  }
 ],
 "metadata": {
  "kernelspec": {
   "display_name": "Python 3",
   "language": "python",
   "name": "python3"
  },
  "language_info": {
   "codemirror_mode": {
    "name": "ipython",
    "version": 3
   },
   "file_extension": ".py",
   "mimetype": "text/x-python",
   "name": "python",
   "nbconvert_exporter": "python",
   "pygments_lexer": "ipython3",
   "version": "3.7.3"
  },
  "widgets": {
   "application/vnd.jupyter.widget-state+json": {
    "state": {
     "01e3a13d1dc6433496974545ebac300e": {
      "model_module": "@jupyter-widgets/controls",
      "model_module_version": "1.5.0",
      "model_name": "IntProgressModel",
      "state": {
       "_dom_classes": [],
       "_model_module": "@jupyter-widgets/controls",
       "_model_module_version": "1.5.0",
       "_model_name": "IntProgressModel",
       "_view_count": null,
       "_view_module": "@jupyter-widgets/controls",
       "_view_module_version": "1.5.0",
       "_view_name": "ProgressView",
       "bar_style": "success",
       "description": "100%",
       "description_tooltip": null,
       "layout": "IPY_MODEL_a18c158fe25f4177ab39e9320cc354c8",
       "max": 1000,
       "min": 0,
       "orientation": "horizontal",
       "style": "IPY_MODEL_092441541a5f4b37895a79682704953c",
       "value": 1000
      }
     },
     "092441541a5f4b37895a79682704953c": {
      "model_module": "@jupyter-widgets/controls",
      "model_module_version": "1.5.0",
      "model_name": "ProgressStyleModel",
      "state": {
       "_model_module": "@jupyter-widgets/controls",
       "_model_module_version": "1.5.0",
       "_model_name": "ProgressStyleModel",
       "_view_count": null,
       "_view_module": "@jupyter-widgets/base",
       "_view_module_version": "1.2.0",
       "_view_name": "StyleView",
       "bar_color": null,
       "description_width": "initial"
      }
     },
     "0b3f27e2fd7942908aa969aeed9c3f74": {
      "model_module": "@jupyter-widgets/controls",
      "model_module_version": "1.5.0",
      "model_name": "DescriptionStyleModel",
      "state": {
       "_model_module": "@jupyter-widgets/controls",
       "_model_module_version": "1.5.0",
       "_model_name": "DescriptionStyleModel",
       "_view_count": null,
       "_view_module": "@jupyter-widgets/base",
       "_view_module_version": "1.2.0",
       "_view_name": "StyleView",
       "description_width": ""
      }
     },
     "18933681a8964e189698dc31091a0449": {
      "model_module": "@jupyter-widgets/controls",
      "model_module_version": "1.5.0",
      "model_name": "DescriptionStyleModel",
      "state": {
       "_model_module": "@jupyter-widgets/controls",
       "_model_module_version": "1.5.0",
       "_model_name": "DescriptionStyleModel",
       "_view_count": null,
       "_view_module": "@jupyter-widgets/base",
       "_view_module_version": "1.2.0",
       "_view_name": "StyleView",
       "description_width": ""
      }
     },
     "288c6715e62648f988b4843b1fbc861d": {
      "model_module": "@jupyter-widgets/controls",
      "model_module_version": "1.5.0",
      "model_name": "HBoxModel",
      "state": {
       "_dom_classes": [],
       "_model_module": "@jupyter-widgets/controls",
       "_model_module_version": "1.5.0",
       "_model_name": "HBoxModel",
       "_view_count": null,
       "_view_module": "@jupyter-widgets/controls",
       "_view_module_version": "1.5.0",
       "_view_name": "HBoxView",
       "box_style": "",
       "children": [
        "IPY_MODEL_01e3a13d1dc6433496974545ebac300e",
        "IPY_MODEL_f4b294a59566403eba4574ba422c983f"
       ],
       "layout": "IPY_MODEL_3409d052be97481c83d838262a3d1d7d"
      }
     },
     "3409d052be97481c83d838262a3d1d7d": {
      "model_module": "@jupyter-widgets/base",
      "model_module_version": "1.2.0",
      "model_name": "LayoutModel",
      "state": {
       "_model_module": "@jupyter-widgets/base",
       "_model_module_version": "1.2.0",
       "_model_name": "LayoutModel",
       "_view_count": null,
       "_view_module": "@jupyter-widgets/base",
       "_view_module_version": "1.2.0",
       "_view_name": "LayoutView",
       "align_content": null,
       "align_items": null,
       "align_self": null,
       "border": null,
       "bottom": null,
       "display": null,
       "flex": null,
       "flex_flow": null,
       "grid_area": null,
       "grid_auto_columns": null,
       "grid_auto_flow": null,
       "grid_auto_rows": null,
       "grid_column": null,
       "grid_gap": null,
       "grid_row": null,
       "grid_template_areas": null,
       "grid_template_columns": null,
       "grid_template_rows": null,
       "height": null,
       "justify_content": null,
       "justify_items": null,
       "left": null,
       "margin": null,
       "max_height": null,
       "max_width": null,
       "min_height": null,
       "min_width": null,
       "object_fit": null,
       "object_position": null,
       "order": null,
       "overflow": null,
       "overflow_x": null,
       "overflow_y": null,
       "padding": null,
       "right": null,
       "top": null,
       "visibility": null,
       "width": null
      }
     },
     "354f6da6761c47d596c5cc52a412aa0f": {
      "model_module": "@jupyter-widgets/base",
      "model_module_version": "1.2.0",
      "model_name": "LayoutModel",
      "state": {
       "_model_module": "@jupyter-widgets/base",
       "_model_module_version": "1.2.0",
       "_model_name": "LayoutModel",
       "_view_count": null,
       "_view_module": "@jupyter-widgets/base",
       "_view_module_version": "1.2.0",
       "_view_name": "LayoutView",
       "align_content": null,
       "align_items": null,
       "align_self": null,
       "border": null,
       "bottom": null,
       "display": null,
       "flex": null,
       "flex_flow": null,
       "grid_area": null,
       "grid_auto_columns": null,
       "grid_auto_flow": null,
       "grid_auto_rows": null,
       "grid_column": null,
       "grid_gap": null,
       "grid_row": null,
       "grid_template_areas": null,
       "grid_template_columns": null,
       "grid_template_rows": null,
       "height": null,
       "justify_content": null,
       "justify_items": null,
       "left": null,
       "margin": null,
       "max_height": null,
       "max_width": null,
       "min_height": null,
       "min_width": null,
       "object_fit": null,
       "object_position": null,
       "order": null,
       "overflow": null,
       "overflow_x": null,
       "overflow_y": null,
       "padding": null,
       "right": null,
       "top": null,
       "visibility": null,
       "width": null
      }
     },
     "646795cb5b0f4ea69173f345b94f4a80": {
      "model_module": "@jupyter-widgets/base",
      "model_module_version": "1.2.0",
      "model_name": "LayoutModel",
      "state": {
       "_model_module": "@jupyter-widgets/base",
       "_model_module_version": "1.2.0",
       "_model_name": "LayoutModel",
       "_view_count": null,
       "_view_module": "@jupyter-widgets/base",
       "_view_module_version": "1.2.0",
       "_view_name": "LayoutView",
       "align_content": null,
       "align_items": null,
       "align_self": null,
       "border": null,
       "bottom": null,
       "display": null,
       "flex": null,
       "flex_flow": null,
       "grid_area": null,
       "grid_auto_columns": null,
       "grid_auto_flow": null,
       "grid_auto_rows": null,
       "grid_column": null,
       "grid_gap": null,
       "grid_row": null,
       "grid_template_areas": null,
       "grid_template_columns": null,
       "grid_template_rows": null,
       "height": null,
       "justify_content": null,
       "justify_items": null,
       "left": null,
       "margin": null,
       "max_height": null,
       "max_width": null,
       "min_height": null,
       "min_width": null,
       "object_fit": null,
       "object_position": null,
       "order": null,
       "overflow": null,
       "overflow_x": null,
       "overflow_y": null,
       "padding": null,
       "right": null,
       "top": null,
       "visibility": null,
       "width": null
      }
     },
     "8033af2bd7124728a8409489cfda7ad1": {
      "model_module": "@jupyter-widgets/controls",
      "model_module_version": "1.5.0",
      "model_name": "ProgressStyleModel",
      "state": {
       "_model_module": "@jupyter-widgets/controls",
       "_model_module_version": "1.5.0",
       "_model_name": "ProgressStyleModel",
       "_view_count": null,
       "_view_module": "@jupyter-widgets/base",
       "_view_module_version": "1.2.0",
       "_view_name": "StyleView",
       "bar_color": null,
       "description_width": "initial"
      }
     },
     "8c98e3c1e48949f09164d5b3adacf79b": {
      "model_module": "@jupyter-widgets/controls",
      "model_module_version": "1.5.0",
      "model_name": "IntProgressModel",
      "state": {
       "_dom_classes": [],
       "_model_module": "@jupyter-widgets/controls",
       "_model_module_version": "1.5.0",
       "_model_name": "IntProgressModel",
       "_view_count": null,
       "_view_module": "@jupyter-widgets/controls",
       "_view_module_version": "1.5.0",
       "_view_name": "ProgressView",
       "bar_style": "success",
       "description": "100%",
       "description_tooltip": null,
       "layout": "IPY_MODEL_a87b875440e947f784a3ce721e7b2c4b",
       "max": 17000,
       "min": 0,
       "orientation": "horizontal",
       "style": "IPY_MODEL_8033af2bd7124728a8409489cfda7ad1",
       "value": 17000
      }
     },
     "a18c158fe25f4177ab39e9320cc354c8": {
      "model_module": "@jupyter-widgets/base",
      "model_module_version": "1.2.0",
      "model_name": "LayoutModel",
      "state": {
       "_model_module": "@jupyter-widgets/base",
       "_model_module_version": "1.2.0",
       "_model_name": "LayoutModel",
       "_view_count": null,
       "_view_module": "@jupyter-widgets/base",
       "_view_module_version": "1.2.0",
       "_view_name": "LayoutView",
       "align_content": null,
       "align_items": null,
       "align_self": null,
       "border": null,
       "bottom": null,
       "display": null,
       "flex": null,
       "flex_flow": null,
       "grid_area": null,
       "grid_auto_columns": null,
       "grid_auto_flow": null,
       "grid_auto_rows": null,
       "grid_column": null,
       "grid_gap": null,
       "grid_row": null,
       "grid_template_areas": null,
       "grid_template_columns": null,
       "grid_template_rows": null,
       "height": null,
       "justify_content": null,
       "justify_items": null,
       "left": null,
       "margin": null,
       "max_height": null,
       "max_width": null,
       "min_height": null,
       "min_width": null,
       "object_fit": null,
       "object_position": null,
       "order": null,
       "overflow": null,
       "overflow_x": null,
       "overflow_y": null,
       "padding": null,
       "right": null,
       "top": null,
       "visibility": null,
       "width": null
      }
     },
     "a87b875440e947f784a3ce721e7b2c4b": {
      "model_module": "@jupyter-widgets/base",
      "model_module_version": "1.2.0",
      "model_name": "LayoutModel",
      "state": {
       "_model_module": "@jupyter-widgets/base",
       "_model_module_version": "1.2.0",
       "_model_name": "LayoutModel",
       "_view_count": null,
       "_view_module": "@jupyter-widgets/base",
       "_view_module_version": "1.2.0",
       "_view_name": "LayoutView",
       "align_content": null,
       "align_items": null,
       "align_self": null,
       "border": null,
       "bottom": null,
       "display": null,
       "flex": null,
       "flex_flow": null,
       "grid_area": null,
       "grid_auto_columns": null,
       "grid_auto_flow": null,
       "grid_auto_rows": null,
       "grid_column": null,
       "grid_gap": null,
       "grid_row": null,
       "grid_template_areas": null,
       "grid_template_columns": null,
       "grid_template_rows": null,
       "height": null,
       "justify_content": null,
       "justify_items": null,
       "left": null,
       "margin": null,
       "max_height": null,
       "max_width": null,
       "min_height": null,
       "min_width": null,
       "object_fit": null,
       "object_position": null,
       "order": null,
       "overflow": null,
       "overflow_x": null,
       "overflow_y": null,
       "padding": null,
       "right": null,
       "top": null,
       "visibility": null,
       "width": null
      }
     },
     "c720d29006cb45418d222942438e6725": {
      "model_module": "@jupyter-widgets/base",
      "model_module_version": "1.2.0",
      "model_name": "LayoutModel",
      "state": {
       "_model_module": "@jupyter-widgets/base",
       "_model_module_version": "1.2.0",
       "_model_name": "LayoutModel",
       "_view_count": null,
       "_view_module": "@jupyter-widgets/base",
       "_view_module_version": "1.2.0",
       "_view_name": "LayoutView",
       "align_content": null,
       "align_items": null,
       "align_self": null,
       "border": null,
       "bottom": null,
       "display": null,
       "flex": null,
       "flex_flow": null,
       "grid_area": null,
       "grid_auto_columns": null,
       "grid_auto_flow": null,
       "grid_auto_rows": null,
       "grid_column": null,
       "grid_gap": null,
       "grid_row": null,
       "grid_template_areas": null,
       "grid_template_columns": null,
       "grid_template_rows": null,
       "height": null,
       "justify_content": null,
       "justify_items": null,
       "left": null,
       "margin": null,
       "max_height": null,
       "max_width": null,
       "min_height": null,
       "min_width": null,
       "object_fit": null,
       "object_position": null,
       "order": null,
       "overflow": null,
       "overflow_x": null,
       "overflow_y": null,
       "padding": null,
       "right": null,
       "top": null,
       "visibility": null,
       "width": null
      }
     },
     "ce1f08b6338b43a4a5e3108ee2501476": {
      "model_module": "@jupyter-widgets/controls",
      "model_module_version": "1.5.0",
      "model_name": "HTMLModel",
      "state": {
       "_dom_classes": [],
       "_model_module": "@jupyter-widgets/controls",
       "_model_module_version": "1.5.0",
       "_model_name": "HTMLModel",
       "_view_count": null,
       "_view_module": "@jupyter-widgets/controls",
       "_view_module_version": "1.5.0",
       "_view_name": "HTMLView",
       "description": "",
       "description_tooltip": null,
       "layout": "IPY_MODEL_c720d29006cb45418d222942438e6725",
       "placeholder": "​",
       "style": "IPY_MODEL_0b3f27e2fd7942908aa969aeed9c3f74",
       "value": " 17000/17000 [11:12&lt;00:00, 25.29it/s]"
      }
     },
     "e789d37a9f8b4146a33ef41b2ea4cd3d": {
      "model_module": "@jupyter-widgets/controls",
      "model_module_version": "1.5.0",
      "model_name": "HBoxModel",
      "state": {
       "_dom_classes": [],
       "_model_module": "@jupyter-widgets/controls",
       "_model_module_version": "1.5.0",
       "_model_name": "HBoxModel",
       "_view_count": null,
       "_view_module": "@jupyter-widgets/controls",
       "_view_module_version": "1.5.0",
       "_view_name": "HBoxView",
       "box_style": "",
       "children": [
        "IPY_MODEL_8c98e3c1e48949f09164d5b3adacf79b",
        "IPY_MODEL_ce1f08b6338b43a4a5e3108ee2501476"
       ],
       "layout": "IPY_MODEL_354f6da6761c47d596c5cc52a412aa0f"
      }
     },
     "f4b294a59566403eba4574ba422c983f": {
      "model_module": "@jupyter-widgets/controls",
      "model_module_version": "1.5.0",
      "model_name": "HTMLModel",
      "state": {
       "_dom_classes": [],
       "_model_module": "@jupyter-widgets/controls",
       "_model_module_version": "1.5.0",
       "_model_name": "HTMLModel",
       "_view_count": null,
       "_view_module": "@jupyter-widgets/controls",
       "_view_module_version": "1.5.0",
       "_view_name": "HTMLView",
       "description": "",
       "description_tooltip": null,
       "layout": "IPY_MODEL_646795cb5b0f4ea69173f345b94f4a80",
       "placeholder": "​",
       "style": "IPY_MODEL_18933681a8964e189698dc31091a0449",
       "value": " 1000/1000 [03:46&lt;00:00,  4.41it/s]"
      }
     }
    },
    "version_major": 2,
    "version_minor": 0
   }
  }
 },
 "nbformat": 4,
 "nbformat_minor": 1
}
